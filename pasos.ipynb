{
 "cells": [
  {
   "attachments": {},
   "cell_type": "markdown",
   "metadata": {},
   "source": [
    "# Pasos para la modulacion de la base de datos"
   ]
  },
  {
   "attachments": {},
   "cell_type": "markdown",
   "metadata": {},
   "source": [
    "Luego de haber activado nuestro entorno virtual y hacer las instalaciones de flask y flask-sqlalchemy procedemos a hacer los siguientes pasos"
   ]
  },
  {
   "attachments": {},
   "cell_type": "markdown",
   "metadata": {},
   "source": [
    "## Paso uno"
   ]
  },
  {
   "attachments": {},
   "cell_type": "markdown",
   "metadata": {},
   "source": [
    "### Creamos un archivo donde vamos a colocar solamente el modelo de las tabla de nuestra base de datos y tambien instanciamos sqlalchemy\n",
    "\n",
    "En este caso: 'models.py'"
   ]
  },
  {
   "cell_type": "code",
   "execution_count": 1,
   "metadata": {},
   "outputs": [],
   "source": [
    "from flask_sqlalchemy import SQLAlchemy\n",
    "\n",
    "# Instanciamos SqlAlchemy\n",
    "db = SQLAlchemy()\n",
    "\n",
    "#Creamos nuestros modelos(Tablas)\n",
    "class User(db.Model):\n",
    "    id_user = db.Column(db.Integer, primary_key=True)\n",
    "    usuario = db.Column(db.String, unique=True, nullable=False)\n",
    "    password = db.Column(db.String)\n"
   ]
  },
  {
   "attachments": {},
   "cell_type": "markdown",
   "metadata": {},
   "source": [
    "## Paso 2"
   ]
  },
  {
   "attachments": {},
   "cell_type": "markdown",
   "metadata": {},
   "source": [
    "### Creamos el archivo que va a crear la base de datos, se le suele llamar 'init_db'(Inicializar base de datos)"
   ]
  },
  {
   "cell_type": "code",
   "execution_count": null,
   "metadata": {},
   "outputs": [],
   "source": [
    "# Importamos la db y los modelos de nuestras tablas \n",
    "from models import db, User\n",
    "# Importamos flask\n",
    "from flask import Flask\n",
    "\n",
    "#Instanciamos Flask para la proxima conexion a a la db\n",
    "app = Flask('app')\n",
    "\n",
    "#Configura la base de datos SQLite\n",
    "app.config[\"SQLALCHEMY_DATABASE_URI\"] = \"sqlite:///database.sqlite3\" #Usamos .sqlite3 para usar la db directa con la extension SQLite Viewer\n",
    "app.config['SQLALCHEMY_TRACK_MODIFICATIONS'] = False\n",
    "\n",
    "# Inicializar la base de datos\n",
    "db.init_app(app)\n",
    "\n",
    "# Crea base de datoos\n",
    "with app.app_context():\n",
    "    db.create_all()"
   ]
  },
  {
   "attachments": {},
   "cell_type": "markdown",
   "metadata": {},
   "source": [
    "## Paso 3"
   ]
  },
  {
   "attachments": {},
   "cell_type": "markdown",
   "metadata": {},
   "source": [
    "- Abrimos la terminal\n",
    "- Ejecutamos el archivo donde tengamos la inicializacion de la db, en este caso \"init_db.py\", el comando es el siguiente\n",
    "\n",
    "- \"python init_db.py\"\n",
    "\n",
    "- Esto crea una carpeta llamada 'instance' y dentro contiene el archivo de la base de datos\n"
   ]
  },
  {
   "attachments": {},
   "cell_type": "markdown",
   "metadata": {},
   "source": [
    "# Paso 4"
   ]
  },
  {
   "attachments": {},
   "cell_type": "markdown",
   "metadata": {},
   "source": [
    "## Usar las tablas en tu archivo app.py"
   ]
  },
  {
   "attachments": {},
   "cell_type": "markdown",
   "metadata": {},
   "source": [
    "### Un ejemplo podria ser:"
   ]
  },
  {
   "cell_type": "code",
   "execution_count": 2,
   "metadata": {},
   "outputs": [],
   "source": [
    "from flask import Flask\n",
    "# Importamos los modelos de la tablas\n",
    "from models import db, User\n",
    "\n",
    "app = Flask(__name__)\n",
    "\n",
    "# Configura la base de datos SQLite\n",
    "app.config[\"SQLALCHEMY_DATABASE_URI\"] = \"sqlite:///database.sqlite3\"\n",
    "app.config['SQLALCHEMY_TRACK_MODIFICATIONS'] = False\n",
    "\n",
    "# Inicializamos la base de datos\n",
    "db.init_app(app)\n",
    "\n",
    "\n",
    "@app.route(\"/agregar\")\n",
    "def index():\n",
    "    usuario_agregar = User(usuario='Rodri', password='132')\n",
    "    db.session.add(usuario_agregar)\n",
    "    db.session.commit()\n",
    "    return 'se agrego correctamente'\n"
   ]
  }
 ],
 "metadata": {
  "kernelspec": {
   "display_name": "Python 3",
   "language": "python",
   "name": "python3"
  },
  "language_info": {
   "codemirror_mode": {
    "name": "ipython",
    "version": 3
   },
   "file_extension": ".py",
   "mimetype": "text/x-python",
   "name": "python",
   "nbconvert_exporter": "python",
   "pygments_lexer": "ipython3",
   "version": "3.11.3"
  },
  "orig_nbformat": 4
 },
 "nbformat": 4,
 "nbformat_minor": 2
}
